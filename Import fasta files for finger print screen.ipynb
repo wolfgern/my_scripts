{
 "cells": [
  {
   "cell_type": "code",
   "execution_count": 1,
   "metadata": {
    "collapsed": true
   },
   "outputs": [],
   "source": [
    "def find_aa(x):    \n",
    "    seq = str.upper(x)\n",
    "    ZNF_count = 0\n",
    "    fingerprint = ''\n",
    "    while len(seq) > 21:\n",
    "        if seq[0] + seq[3] + seq[16] + seq[20] == 'CCHH':\n",
    "            ZNF_count += 1\n",
    "            fingerprint = fingerprint + seq[9] + seq[12] + seq[15] + '-'\n",
    "        seq = seq[1:]\n",
    "    return fingerprint[:-1]"
   ]
  },
  {
   "cell_type": "code",
   "execution_count": 4,
   "metadata": {},
   "outputs": [
    {
     "name": "stdout",
     "output_type": "stream",
     "text": [
      ">ENSMUSG00000074166_translation_of_ORF_ORF\n",
      " HYK-CNI-CNL-SHI-QSI-CSI-STI-RSI-QHI-RHI-QSI-QYI\n",
      ">ENSMUSG00000020472_translation_of_ORF_ORF\n",
      " DDG-LHS-QDR\n",
      ">ENSMUSG00000058638_translation_of_ORF_ORF\n",
      " NYV-QSQ-DAQ-QHR-QHG\n",
      ">ENSMUSG00000067916_translation_of_ORF_ORF\n",
      " HHI-QHI-ENI-QHI-EHI-EHI-KSI-FSI-ECI-FSI-EKI\n",
      ">ENSMUSG00000071477_translation_of_ORF_ORF\n",
      " LNI-HQL-HSK-LSI-RHR-EKN-RHE-QHE-YSY\n",
      ">ENSMUSG00000062794_translation_of_ORF_ORF\n",
      " SKL-HYQ-RHL-CQL-YHR-CDV-QKL-CHL-YQV\n",
      ">ENSMUSG00000007812_translation_of_ORF_ORF\n",
      " QAR-QSR-RHQ-HYE-LHQ-QCQ\n",
      ">ENSMUSG00000023284_translation_of_ORF_ORF\n",
      " KQV-QKI-WQT-RLR-GSS-QSS-ENH-WHQ-QQK-EQI-RHR-KHR\n",
      ">ENSMUSG00000066000_translation_of_ORF_ORF\n",
      " QLN-HSI-HSI\n",
      ">ENSMUSG00000066009_translation_of_ORF_ORF\n",
      " NNM-KNI-QYI-ESI-QHI-QNI-ESI-ESI-ESI-VSI-KHI-EII-RHI-QHI\n",
      ">ENSMUSG00000066007_translation_of_ORF_ORF\n",
      " DTK-DTK-DSV-QHI-DTK-ETK-DSV-KHI-QPI-DSV-QHI-DSV-DSV-DYV-HSV-RHI-DSR\n",
      ">ENSMUSG00000078502_translation_of_ORF_ORF\n",
      " HHI-HSM-ESI-HHS-KSI-QDI-HHS-RHI-QDI-HHS-RHI-RHI-RHI-RHI-QDI-HHS-RHI-QNI-ESI-RHI\n",
      ">ENSMUSG00000058186_translation_of_ORF_ORF\n",
      " DTK-DSV-QHI-DSV-DSV-DSV-HSV-EGR-DSV-DSV-DYV-HSV-EGR\n",
      ">ENSMUSG00000067919_translation_of_ORF_ORF\n",
      " DTK-DTK-DSV-QHI-DTK-ETK-DSV-KHI-QPI-DSV-QHI-HSV-EGR-RHI-QHI\n"
     ]
    }
   ],
   "source": [
    "with open('zfp.fa') as file:\n",
    "    zfp_seq = ''\n",
    "    zfp_names = []\n",
    "    for line in file:\n",
    "        if line[0] != '>':\n",
    "            zfp_seq += line\n",
    "        else:\n",
    "            zfp_names.append(line)\n",
    "\n",
    "Zfp_seq_flat = zfp_seq.replace('\\n', '')\n",
    "zfp_seq_list = Zfp_seq_flat.split('*')\n",
    "\n",
    "for i in range(len(zfp_seq_list[:-1])):\n",
    "    print(zfp_names[i], find_aa(zfp_seq_list[i]))"
   ]
  },
  {
   "cell_type": "code",
   "execution_count": 37,
   "metadata": {},
   "outputs": [
    {
     "name": "stdout",
     "output_type": "stream",
     "text": [
      "['>ENSMUSG00000074166_translation_of_ORF_ORF\\n', '>ENSMUSG00000020472_translation_of_ORF_ORF\\n', '>ENSMUSG00000058638_translation_of_ORF_ORF\\n', '>ENSMUSG00000067916_translation_of_ORF_ORF\\n', '>ENSMUSG00000071477_translation_of_ORF_ORF\\n', '>ENSMUSG00000062794_translation_of_ORF_ORF\\n', '>ENSMUSG00000007812_translation_of_ORF_ORF\\n', '>ENSMUSG00000023284_translation_of_ORF_ORF\\n', '>ENSMUSG00000066000_translation_of_ORF_ORF\\n', '>ENSMUSG00000066009_translation_of_ORF_ORF\\n', '>ENSMUSG00000066007_translation_of_ORF_ORF\\n', '>ENSMUSG00000078502_translation_of_ORF_ORF\\n', '>ENSMUSG00000058186_translation_of_ORF_ORF\\n', '>ENSMUSG00000067919_translation_of_ORF_ORF\\n']\n",
      "['\\n', '\\n', '\\n', '\\n', '\\n', '\\n', '\\n', '\\n', '\\n', '\\n', '\\n', '\\n', '\\n']\n"
     ]
    }
   ],
   "source": [
    "import re\n",
    "with open('zfp.fa') as file:\n",
    "    fasta_string = file.read()\n",
    "    name_pattern = re.compile('>.*\\n')\n",
    "    seq_pattern = re.compile('\\n.*\\n*>')\n",
    "    name_matches = re.findall(name_pattern, fasta_string)\n",
    "    seq_matches = re.findall(seq_pattern, fasta_string)\n",
    "    print(name_matches)\n",
    "    print(seq_matches)\n",
    "    \n",
    "   \n",
    "pattern = re.compile('C\\w{2}C\\w{12}H\\w{3}H')"
   ]
  }
 ],
 "metadata": {
  "kernelspec": {
   "display_name": "Python 3",
   "language": "python",
   "name": "python3"
  },
  "language_info": {
   "codemirror_mode": {
    "name": "ipython",
    "version": 3
   },
   "file_extension": ".py",
   "mimetype": "text/x-python",
   "name": "python",
   "nbconvert_exporter": "python",
   "pygments_lexer": "ipython3",
   "version": "3.6.1"
  }
 },
 "nbformat": 4,
 "nbformat_minor": 2
}
