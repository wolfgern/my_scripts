{
 "cells": [
  {
   "cell_type": "code",
   "execution_count": 29,
   "metadata": {},
   "outputs": [
    {
     "name": "stdout",
     "output_type": "stream",
     "text": [
      "57\n",
      "<class 'list'>\n",
      "1\n"
     ]
    }
   ],
   "source": [
    "#lists and loops\n",
    "\n",
    "a = ['Chelsea', 'Kimberley', 'Arup', 'Christopher', 'Sherine', 'Mason', 'Devikala', 'Drew', 'Somayeh', 'Melpomeni', 'Siyoung', 'Shennon', 'David', 'Ryan', 'Naisarg', 'Maria', 'Mohammad', 'Rachel', 'Daron', 'Kat', 'Kelsey', 'James', 'Maggie', 'Saad', 'Aditi', 'Brigette', 'Jaira', 'Christopher', 'Gernot', 'Taylor', 'Vasilisa', 'Sureshbabu', 'Thomas', 'Tejpal', 'Mahesh', 'Jakob', 'Victoria', 'Brian', 'Dakota', 'Jiman', 'Lauren', 'Billy', 'Jesse', 'John', 'Veronica', 'Kyle', 'Michael', 'Hassan', 'Mathew', 'Ida', 'Irina', 'Chen', 'Margaret', 'Timothy', 'Yiquan', 'Renbin', 'Erik']\n",
    "\n",
    "print (len(a)) #lists have length\n",
    "print (type(a)) #a\n",
    "print (a[0].count('a'))"
   ]
  },
  {
   "cell_type": "code",
   "execution_count": 10,
   "metadata": {},
   "outputs": [
    {
     "name": "stdout",
     "output_type": "stream",
     "text": [
      "Chelsea\n"
     ]
    }
   ],
   "source": [
    "print (a[0]) #you can index"
   ]
  },
  {
   "cell_type": "code",
   "execution_count": 12,
   "metadata": {},
   "outputs": [
    {
     "name": "stdout",
     "output_type": "stream",
     "text": [
      "<class 'str'>\n"
     ]
    }
   ],
   "source": [
    "print (type(a[0])) #a is a list of strings\n"
   ]
  },
  {
   "cell_type": "code",
   "execution_count": 56,
   "metadata": {},
   "outputs": [
    {
     "name": "stdout",
     "output_type": "stream",
     "text": [
      "2\n",
      "1\n",
      "35\n"
     ]
    }
   ],
   "source": [
    "\n",
    "print (a[0].count('e'))#string methods are available on strings within your lists\n",
    "print (a.count('Gernot'))\n",
    "str_a = ''.join(a)\n",
    "print (str_a.count('e'))\n"
   ]
  },
  {
   "cell_type": "code",
   "execution_count": 31,
   "metadata": {},
   "outputs": [
    {
     "name": "stdout",
     "output_type": "stream",
     "text": [
      "range(0, 57)\n"
     ]
    }
   ],
   "source": [
    "print(range(len(a))) #range function often used for indexing into arrays"
   ]
  },
  {
   "cell_type": "code",
   "execution_count": 32,
   "metadata": {},
   "outputs": [
    {
     "name": "stdout",
     "output_type": "stream",
     "text": [
      "<class 'range'>\n"
     ]
    }
   ],
   "source": [
    "print(type(range(len(a)))) #also a list"
   ]
  },
  {
   "cell_type": "code",
   "execution_count": 22,
   "metadata": {},
   "outputs": [
    {
     "name": "stdout",
     "output_type": "stream",
     "text": [
      "Chelsea\n",
      "Kimberley\n",
      "Arup\n",
      "Christopher\n",
      "Sherine\n",
      "Mason\n",
      "Devikala\n",
      "Drew\n",
      "Somayeh\n",
      "Melpomeni\n",
      "Siyoung\n",
      "Shennon\n",
      "David\n",
      "Ryan\n",
      "Naisarg\n",
      "Maria\n",
      "Mohammad\n",
      "Rachel\n",
      "Daron\n",
      "Kat\n",
      "Kelsey\n",
      "James\n",
      "Maggie\n",
      "Saad\n",
      "Aditi\n",
      "Brigette\n",
      "Jaira\n",
      "Christopher\n",
      "Gernot\n",
      "Taylor\n",
      "Vasilisa\n",
      "Sureshbabu\n",
      "Thomas\n",
      "Tejpal\n",
      "Mahesh\n",
      "Jakob\n",
      "Victoria\n",
      "Brian\n",
      "Dakota\n",
      "Jiman\n",
      "Lauren\n",
      "Billy\n",
      "Jesse\n",
      "John\n",
      "Veronica\n",
      "Kyle\n",
      "Michael\n",
      "Hassan\n",
      "Mathew\n",
      "Ida\n",
      "Irina\n",
      "Chen\n",
      "Margaret\n",
      "Timothy\n",
      "Yiquan\n",
      "Renbin\n",
      "Erik\n"
     ]
    }
   ],
   "source": [
    "#range generates a list\n",
    "\n",
    "#the elements of the list contain index into an array\n",
    "\n",
    "for i in range(len(a)):\n",
    "\n",
    "    print (a[i])"
   ]
  },
  {
   "cell_type": "code",
   "execution_count": 25,
   "metadata": {},
   "outputs": [
    {
     "name": "stdout",
     "output_type": "stream",
     "text": [
      "Chelsea\n",
      "Kimberley\n",
      "Arup\n",
      "Christopher\n",
      "Sherine\n",
      "Mason\n",
      "Devikala\n",
      "Drew\n",
      "Somayeh\n",
      "Melpomeni\n",
      "Siyoung\n",
      "Shennon\n",
      "David\n",
      "Ryan\n",
      "Naisarg\n",
      "Maria\n",
      "Mohammad\n",
      "Rachel\n",
      "Daron\n",
      "Kat\n",
      "Kelsey\n",
      "James\n",
      "Maggie\n",
      "Saad\n",
      "Aditi\n",
      "Brigette\n",
      "Jaira\n",
      "Christopher\n",
      "Gernot\n",
      "Taylor\n",
      "Vasilisa\n",
      "Sureshbabu\n",
      "Thomas\n",
      "Tejpal\n",
      "Mahesh\n",
      "Jakob\n",
      "Victoria\n",
      "Brian\n",
      "Dakota\n",
      "Jiman\n",
      "Lauren\n",
      "Billy\n",
      "Jesse\n",
      "John\n",
      "Veronica\n",
      "Kyle\n",
      "Michael\n",
      "Hassan\n",
      "Mathew\n",
      "Ida\n",
      "Irina\n",
      "Chen\n",
      "Margaret\n",
      "Timothy\n",
      "Yiquan\n",
      "Renbin\n",
      "Erik\n"
     ]
    }
   ],
   "source": [
    "for name in a:\n",
    "    print(name)"
   ]
  },
  {
   "cell_type": "code",
   "execution_count": 40,
   "metadata": {},
   "outputs": [
    {
     "name": "stdout",
     "output_type": "stream",
     "text": [
      "[7, 9, 4, 11, 7, 5, 8, 4, 7, 9, 7, 7, 5, 4, 7, 5, 8, 6, 5, 3, 6, 5, 6, 4, 5, 8, 5, 11, 6, 6, 8, 10, 6, 6, 6, 5, 8, 5, 6, 5, 6, 5, 5, 4, 8, 4, 7, 6, 6, 3, 5, 4, 8, 7, 6, 6, 4]\n",
      "57\n"
     ]
    },
    {
     "data": {
      "text/plain": [
       "True"
      ]
     },
     "execution_count": 40,
     "metadata": {},
     "output_type": "execute_result"
    }
   ],
   "source": [
    "lengths = [] #you can initialize an empty array\n",
    "\n",
    "for i in range(len(a)):\n",
    "\n",
    "    l = len(a[i])\n",
    "\n",
    "    lengths.append(l) #what's this?\n",
    "\n",
    "\n",
    "\n",
    "#this loop goes through\n",
    "\n",
    "print (lengths)\n",
    "\n",
    "print (len(lengths))\n",
    "\n",
    "len(lengths) == len(a)\n",
    "\n",
    "###divide into groups and try to calculate the sum of the lengths, start by writing psuedo or talking about the necessary components"
   ]
  },
  {
   "cell_type": "code",
   "execution_count": 43,
   "metadata": {},
   "outputs": [
    {
     "name": "stdout",
     "output_type": "stream",
     "text": [
      "[7, 9, 4, 11, 7, 5, 8, 4, 7, 9, 7, 7, 5, 4, 7, 5, 8, 6, 5, 3, 6, 5, 6, 4, 5, 8, 5, 11, 6, 6, 8, 10, 6, 6, 6, 5, 8, 5, 6, 5, 6, 5, 5, 4, 8, 4, 7, 6, 6, 3, 5, 4, 8, 7, 6, 6, 4]\n",
      "57\n"
     ]
    },
    {
     "data": {
      "text/plain": [
       "True"
      ]
     },
     "execution_count": 43,
     "metadata": {},
     "output_type": "execute_result"
    }
   ],
   "source": [
    "lengths = [] #you can initialize an empty array\n",
    "\n",
    "for i in a:\n",
    "\n",
    "    l = len(i)\n",
    "\n",
    "    lengths.append(l) #what's this?\n",
    "\n",
    "\n",
    "\n",
    "#this loop goes through\n",
    "\n",
    "print (lengths)\n",
    "\n",
    "print (len(lengths))\n",
    "\n",
    "len(lengths) == len(a)\n"
   ]
  },
  {
   "cell_type": "code",
   "execution_count": 47,
   "metadata": {},
   "outputs": [
    {
     "name": "stdout",
     "output_type": "stream",
     "text": [
      "349\n"
     ]
    }
   ],
   "source": [
    "count1 = 0\n",
    "for i in lengths:\n",
    "    count1 += i\n",
    "print(count1)"
   ]
  },
  {
   "cell_type": "code",
   "execution_count": 49,
   "metadata": {},
   "outputs": [
    {
     "name": "stdout",
     "output_type": "stream",
     "text": [
      "349\n"
     ]
    }
   ],
   "source": [
    "count2 = 0\n",
    "for i in a:\n",
    "    count2 += len(i)\n",
    "print(count2)"
   ]
  },
  {
   "cell_type": "code",
   "execution_count": 50,
   "metadata": {},
   "outputs": [
    {
     "name": "stdout",
     "output_type": "stream",
     "text": [
      "ChelseaKimberleyArupChristopherSherineMasonDevikalaDrewSomayehMelpomeniSiyoungShennonDavidRyanNaisargMariaMohammadRachelDaronKatKelseyJamesMaggieSaadAditiBrigetteJairaChristopherGernotTaylorVasilisaSureshbabuThomasTejpalMaheshJakobVictoriaBrianDakotaJimanLaurenBillyJesseJohnVeronicaKyleMichaelHassanMathewIdaIrinaChenMargaretTimothyYiquanRenbinErik\n"
     ]
    }
   ],
   "source": [
    "str_a = ''.join(a)\n",
    "print(str_a)"
   ]
  },
  {
   "cell_type": "code",
   "execution_count": 52,
   "metadata": {},
   "outputs": [
    {
     "name": "stdout",
     "output_type": "stream",
     "text": [
      "['C', 'h', 'e', 'l', 's', 'e', 'a', 'K', 'i', 'm', 'b', 'e', 'r', 'l', 'e', 'y', 'A', 'r', 'u', 'p', 'C', 'h', 'r', 'i', 's', 't', 'o', 'p', 'h', 'e', 'r', 'S', 'h', 'e', 'r', 'i', 'n', 'e', 'M', 'a', 's', 'o', 'n', 'D', 'e', 'v', 'i', 'k', 'a', 'l', 'a', 'D', 'r', 'e', 'w', 'S', 'o', 'm', 'a', 'y', 'e', 'h', 'M', 'e', 'l', 'p', 'o', 'm', 'e', 'n', 'i', 'S', 'i', 'y', 'o', 'u', 'n', 'g', 'S', 'h', 'e', 'n', 'n', 'o', 'n', 'D', 'a', 'v', 'i', 'd', 'R', 'y', 'a', 'n', 'N', 'a', 'i', 's', 'a', 'r', 'g', 'M', 'a', 'r', 'i', 'a', 'M', 'o', 'h', 'a', 'm', 'm', 'a', 'd', 'R', 'a', 'c', 'h', 'e', 'l', 'D', 'a', 'r', 'o', 'n', 'K', 'a', 't', 'K', 'e', 'l', 's', 'e', 'y', 'J', 'a', 'm', 'e', 's', 'M', 'a', 'g', 'g', 'i', 'e', 'S', 'a', 'a', 'd', 'A', 'd', 'i', 't', 'i', 'B', 'r', 'i', 'g', 'e', 't', 't', 'e', 'J', 'a', 'i', 'r', 'a', 'C', 'h', 'r', 'i', 's', 't', 'o', 'p', 'h', 'e', 'r', 'G', 'e', 'r', 'n', 'o', 't', 'T', 'a', 'y', 'l', 'o', 'r', 'V', 'a', 's', 'i', 'l', 'i', 's', 'a', 'S', 'u', 'r', 'e', 's', 'h', 'b', 'a', 'b', 'u', 'T', 'h', 'o', 'm', 'a', 's', 'T', 'e', 'j', 'p', 'a', 'l', 'M', 'a', 'h', 'e', 's', 'h', 'J', 'a', 'k', 'o', 'b', 'V', 'i', 'c', 't', 'o', 'r', 'i', 'a', 'B', 'r', 'i', 'a', 'n', 'D', 'a', 'k', 'o', 't', 'a', 'J', 'i', 'm', 'a', 'n', 'L', 'a', 'u', 'r', 'e', 'n', 'B', 'i', 'l', 'l', 'y', 'J', 'e', 's', 's', 'e', 'J', 'o', 'h', 'n', 'V', 'e', 'r', 'o', 'n', 'i', 'c', 'a', 'K', 'y', 'l', 'e', 'M', 'i', 'c', 'h', 'a', 'e', 'l', 'H', 'a', 's', 's', 'a', 'n', 'M', 'a', 't', 'h', 'e', 'w', 'I', 'd', 'a', 'I', 'r', 'i', 'n', 'a', 'C', 'h', 'e', 'n', 'M', 'a', 'r', 'g', 'a', 'r', 'e', 't', 'T', 'i', 'm', 'o', 't', 'h', 'y', 'Y', 'i', 'q', 'u', 'a', 'n', 'R', 'e', 'n', 'b', 'i', 'n', 'E', 'r', 'i', 'k']\n"
     ]
    }
   ],
   "source": [
    "print(list(str_a))"
   ]
  },
  {
   "cell_type": "code",
   "execution_count": 78,
   "metadata": {},
   "outputs": [
    {
     "name": "stdout",
     "output_type": "stream",
     "text": [
      "{'o', 'I', 'b', 'Y', 'D', 'e', 'T', 'm', 'w', 'H', 'p', 'q', 'C', 'n', 'J', 'M', 'v', 'E', 'l', 't', 's', 'y', 'B', 'N', 'A', 'i', 'k', 'S', 'g', 'G', 'c', 'h', 'r', 'a', 'K', 'j', 'V', 'u', 'd', 'L', 'R'}\n",
      "{'o', 'I', 'b', 'Y', 'D', 'e', 'T', 'm', 'w', 'H', 'p', 'q', 'C', 'n', 'J', 'M', 'v', 'E', 'l', 't', 's', 'y', 'B', 'N', 'A', 'i', 'k', 'S', 'g', 'G', 'c', 'h', 'r', 'a', 'K', 'j', 'V', 'u', 'd', 'L', 'R'}\n"
     ]
    }
   ],
   "source": [
    "print(set(list(str_a)))\n",
    "print(set(str_a))"
   ]
  },
  {
   "cell_type": "code",
   "execution_count": 41,
   "metadata": {},
   "outputs": [
    {
     "name": "stdout",
     "output_type": "stream",
     "text": [
      "4\n",
      "Erik\n",
      "50\n",
      "l\n"
     ]
    },
    {
     "ename": "TypeError",
     "evalue": "'str' object does not support item assignment",
     "output_type": "error",
     "traceback": [
      "\u001b[1;31m---------------------------------------------------------------------------\u001b[0m",
      "\u001b[1;31mTypeError\u001b[0m                                 Traceback (most recent call last)",
      "\u001b[1;32m<ipython-input-41-809ab8d2bcec>\u001b[0m in \u001b[0;36m<module>\u001b[1;34m()\u001b[0m\n\u001b[0;32m      9\u001b[0m \u001b[0mprint\u001b[0m \u001b[1;33m(\u001b[0m\u001b[0ma\u001b[0m\u001b[1;33m[\u001b[0m\u001b[1;36m0\u001b[0m\u001b[1;33m]\u001b[0m\u001b[1;33m[\u001b[0m\u001b[1;36m3\u001b[0m\u001b[1;33m]\u001b[0m\u001b[1;33m)\u001b[0m \u001b[1;31m#you are now indexing into the string at the first element in the list\u001b[0m\u001b[1;33m\u001b[0m\u001b[0m\n\u001b[0;32m     10\u001b[0m \u001b[1;33m\u001b[0m\u001b[0m\n\u001b[1;32m---> 11\u001b[1;33m \u001b[0ma\u001b[0m\u001b[1;33m[\u001b[0m\u001b[1;36m0\u001b[0m\u001b[1;33m]\u001b[0m\u001b[1;33m[\u001b[0m\u001b[1;36m3\u001b[0m\u001b[1;33m]\u001b[0m \u001b[1;33m=\u001b[0m \u001b[1;34m'a'\u001b[0m \u001b[1;31m#uh oh, remember strings aren't mutable\u001b[0m\u001b[1;33m\u001b[0m\u001b[0m\n\u001b[0m\u001b[0;32m     12\u001b[0m \u001b[1;33m\u001b[0m\u001b[0m\n\u001b[0;32m     13\u001b[0m \u001b[1;31m###but what if we want to operate on strings, and make changes?\\\u001b[0m\u001b[1;33m\u001b[0m\u001b[1;33m\u001b[0m\u001b[0m\n",
      "\u001b[1;31mTypeError\u001b[0m: 'str' object does not support item assignment"
     ]
    }
   ],
   "source": [
    "print (lengths[-1]) #print last element in lengths\n",
    "\n",
    "print (a[-1]) # should make sense\n",
    "\n",
    "lengths[-1] = 50\n",
    "\n",
    "print (lengths[-1]) #you can change the value held at any index\n",
    "\n",
    "print (a[0][3]) #you are now indexing into the string at the first element in the list\n",
    "\n",
    "a[0][3] = 'a' #uh oh, remember strings aren't mutable\n",
    "\n",
    "###but what if we want to operate on strings, and make changes?\\\n",
    "\n",
    "string_a = ''.join(a) #this is how you take a list a\n",
    "\n",
    "print (string_a) #\n",
    "\n",
    "\n",
    "\n"
   ]
  },
  {
   "cell_type": "code",
   "execution_count": 73,
   "metadata": {},
   "outputs": [
    {
     "name": "stdout",
     "output_type": "stream",
     "text": [
      "Instances of a : 6\n",
      "['asdfhao83n', 'l29rj`1o29p3wfl', 'udabio8a9lw3finevqaslvrghi8qn4eruav']\n",
      "[['a', 's', 'd', 'f', 'h', 'a', 'o', '8', '3', 'n'], 'l29rj`1o29p3wfl', 'udabio8a9lw3finevqaslvrghi8qn4eruav']\n",
      "[['a', 's', '9', 'f', 'h', 'a', 'o', '8', '3', 'n'], 'l29rj`1o29p3wfl', 'udabio8a9lw3finevqaslvrghi8qn4eruav']\n",
      "['as9fhao83n', 'l29rj`1o29p3wfl', 'udabio8a9lw3finevqaslvrghi8qn4eruav', 'listsarerad']\n",
      "as9fhao83nl29rj`1o29p3wfludabio8a9lw3finevqaslvrghi8qn4eruavlistsarerad\n",
      "8\n"
     ]
    }
   ],
   "source": [
    "nonsense_string = \"asdfhao83nml29rj`1o29p3wflmudabio8a9lw3finevqaslvrghi8qn4eruav\"\n",
    "\n",
    "print('Instances of a :',nonsense_string.count('a'))\n",
    "\n",
    "nonsense_list = nonsense_string.split('m')\n",
    "\n",
    "print(nonsense_list)\n",
    "\n",
    "nonsense_list[0] = list(nonsense_list[0])\n",
    "\n",
    "print (nonsense_list)\n",
    "\n",
    "nonsense_list[0][2] = '9'\n",
    "\n",
    "print (nonsense_list)\n",
    "\n",
    "nonsense_list[0] = ''.join(nonsense_list[0])\n",
    "\n",
    "nonsense_list.append('listsarerad')\n",
    "\n",
    "print (nonsense_list)\n",
    "\n",
    "nonsense_list = ''.join(nonsense_list)\n",
    "\n",
    "print(nonsense_list)\n",
    "\n",
    "print(nonsense_list.count('a'))\n",
    "\n",
    "\n",
    "\n"
   ]
  },
  {
   "cell_type": "code",
   "execution_count": null,
   "metadata": {
    "collapsed": true
   },
   "outputs": [],
   "source": [
    "\n",
    "\n",
    "\n",
    "\n",
    "###divide into groups again and\n",
    "\n",
    "#0.) find out how many instances of the string 'a' are in the nonsense string using the count method\n",
    "\n",
    "#1.) use the split method to turn nonsense_string into a list, removing all instances of the string 'm'\n",
    "\n",
    "#2.) go to the first element in your new list, change the 3rd value of this element to '9'\n",
    "\n",
    "#3). add the string \"listsarerad\" to the end of the list\n",
    "\n",
    "#4). now that we've made some changes, calculate how many instances of the string 'a' are in your list using the count method\n",
    "\n",
    "#5). turn it back into a string\n",
    "\n",
    "\n",
    "\n",
    "\n",
    "\n",
    "#sets are uniqe versions of lists, meaning they contain only unique entries\n",
    "\n",
    "len(a)\n",
    "\n",
    "set(a)\n",
    "\n",
    "len(set(a)) #looks like we've got some duplicate name(s) in the class\n",
    "\n",
    "la = list(set(a))\n",
    "\n",
    "\n",
    "\n",
    "for i in range(len(set(a))):\n",
    "\n",
    "    print (i)\n",
    "\n",
    "\n",
    "\n",
    "#sets are not iterable\n",
    "\n",
    "\n",
    "\n",
    "###while loops\n",
    "\n",
    "\n",
    "\n",
    "g = list(nonsense_string)\n",
    "\n",
    "lg0 = len(g)\n",
    "\n",
    "c = 0\n",
    "\n",
    "while c < 10:\n",
    "\n",
    "    del(g[-1])\n",
    "\n",
    "    c+=1 #fancy way of just saying c = c + 1\n",
    "\n",
    "\n",
    "\n",
    "lg1 = len(g)\n",
    "\n",
    "lg0 - lg1\n",
    "\n",
    "#lost 10 elements\n",
    "\n",
    "\n",
    "\n",
    "##########a few nifty methods with lists\n",
    "\n",
    "\n",
    "\n",
    "a #beloved class\n",
    "\n",
    "a.reverse() #backwards\n",
    "\n",
    "print a\n",
    "\n",
    "\n",
    "\n",
    "x = [3, 4, 5, 12, -3]\n",
    "\n",
    "min(x)\n",
    "\n",
    "max(x)\n",
    "\n",
    "sum(x)\n",
    "\n",
    "x.sort()\n",
    "\n",
    "\n",
    "\n",
    "print x"
   ]
  },
  {
   "cell_type": "code",
   "execution_count": null,
   "metadata": {
    "collapsed": true
   },
   "outputs": [],
   "source": []
  }
 ],
 "metadata": {
  "kernelspec": {
   "display_name": "Python 3",
   "language": "python",
   "name": "python3"
  },
  "language_info": {
   "codemirror_mode": {
    "name": "ipython",
    "version": 3
   },
   "file_extension": ".py",
   "mimetype": "text/x-python",
   "name": "python",
   "nbconvert_exporter": "python",
   "pygments_lexer": "ipython3",
   "version": "3.6.1"
  }
 },
 "nbformat": 4,
 "nbformat_minor": 2
}
