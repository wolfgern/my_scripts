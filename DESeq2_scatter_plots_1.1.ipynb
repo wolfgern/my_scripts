{
 "cells": [
  {
   "cell_type": "code",
   "execution_count": 1,
   "metadata": {
    "collapsed": true
   },
   "outputs": [],
   "source": [
    "import pandas as pd\n",
    "import matplotlib.pyplot as plt\n",
    "import glob"
   ]
  },
  {
   "cell_type": "code",
   "execution_count": 3,
   "metadata": {},
   "outputs": [],
   "source": [
    "\n",
    "files = glob.glob('*.interval')\n",
    "\n",
    "index = 0\n",
    "for file in files:                            # iterate through list with file names\n",
    "    file_name = files[index]\n",
    "    colnames = ['Chr', 'Start', 'End', 'Strand', 'Transposon', 'Mean', 'log2fold', 'x1', 'x2', 'pvalue', 'qvalue']\n",
    "    df = pd.read_csv(file_name, sep = '\\t', names=colnames)\n",
    "\n",
    "    color = []                         # assign colours (red/blue) to up- and downregulated TEs\n",
    "    for row in df.itertuples():\n",
    "        if row[7] > 0 and row[11] < 0.05:\n",
    "            color.append('red')\n",
    "        elif row[7] < 0 and row[11] < 0.05:\n",
    "            color.append('blue')\n",
    "        else: \n",
    "            color.append(0.5)\n",
    "\n",
    "    df.plot(x='Mean', y='log2fold', kind='scatter', s=1, c=color)\n",
    "    plt.xscale('log') \n",
    "    plt.xlabel('Mean TE expression')\n",
    "    plt.ylabel('Log2-fold change')\n",
    "    plt.title(file_name[:-9])\n",
    "    plt.axhline(color='black')\n",
    "    plt.savefig(file_name[:-9])\n",
    "    plt.close()\n",
    "    index += 1\n"
   ]
  }
 ],
 "metadata": {
  "kernelspec": {
   "display_name": "Python 3",
   "language": "python",
   "name": "python3"
  },
  "language_info": {
   "codemirror_mode": {
    "name": "ipython",
    "version": 3
   },
   "file_extension": ".py",
   "mimetype": "text/x-python",
   "name": "python",
   "nbconvert_exporter": "python",
   "pygments_lexer": "ipython3",
   "version": "3.6.1"
  }
 },
 "nbformat": 4,
 "nbformat_minor": 2
}
