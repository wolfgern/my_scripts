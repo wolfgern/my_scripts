{
 "cells": [
  {
   "cell_type": "code",
   "execution_count": 1,
   "metadata": {
    "collapsed": true
   },
   "outputs": [],
   "source": [
    "import pandas as pd\n",
    "import matplotlib.pyplot as plt"
   ]
  },
  {
   "cell_type": "code",
   "execution_count": 15,
   "metadata": {},
   "outputs": [
    {
     "name": "stderr",
     "output_type": "stream",
     "text": [
      "C:\\Users\\wolfgern\\Anaconda3\\lib\\site-packages\\matplotlib\\pyplot.py:524: RuntimeWarning: More than 20 figures have been opened. Figures created through the pyplot interface (`matplotlib.pyplot.figure`) are retained until explicitly closed and may consume too much memory. (To control this warning, see the rcParam `figure.max_open_warning`).\n",
      "  max_open_warning, RuntimeWarning)\n"
     ]
    }
   ],
   "source": [
    "files = ['Chr4-cl KO ES cells (B6_129).interval', 'Chr4-cl KO ES cells.interval', 'Chr4-cl KO blood.interval', 'Chr4-cl KO Brain.interval', 'Chr4-cl KO Kidney.interval', 'Chr4-cl KO Liver.interval', 'Chr10-cl KO ES cells.interval', 'Chr2-cl KO ES cells.interval', 'Chr13_I-cl KO ES cells.interval', 'Chr13_II-cl KO ES cells.interval', 'Chr10-cl KO ES cells.interval', 'Chr2-cl KO ES cells.interval', 'Chr13_I-cl KO ES cells.interval', 'Chr13_II-cl KO ES cells.interval']\n",
    "\n",
    "index = 0\n",
    "for file in files:                            # iterate through list with file names\n",
    "\n",
    "    file_name = files[index]\n",
    "    colnames = ['Chr', 'Start', 'End', 'Strand', 'Transposon', 'Mean', 'log2fold', 'x1', 'x2', 'pvalue', 'qvalue']\n",
    "    df = pd.read_csv(file_name, sep = '\\t', names=colnames)\n",
    "\n",
    "    color = []                         # assign colours (red/blue) to up- and downregulated TEs\n",
    "    for row in df.itertuples():\n",
    "        if row[7] > 0 and row[11] < 0.05:\n",
    "            color.append('red')\n",
    "        elif row[7] < 0 and row[11] < 0.05:\n",
    "            color.append('blue')\n",
    "        else: \n",
    "            color.append(0.5)\n",
    "\n",
    "    df.plot(x='Mean', y='log2fold', kind='scatter', s=1, c=color)\n",
    "    plt.xscale('log') \n",
    "    plt.xlabel('Mean TE expression')\n",
    "    plt.ylabel('Log2-fold change')\n",
    "    plt.title(file_name[:-9])\n",
    "    plt.axhline(color='black')\n",
    "    plt.savefig(file_name[:-9])\n",
    "    plt.close()\n",
    "    index += 1\n"
   ]
  }
 ],
 "metadata": {
  "kernelspec": {
   "display_name": "Python 3",
   "language": "python",
   "name": "python3"
  },
  "language_info": {
   "codemirror_mode": {
    "name": "ipython",
    "version": 3
   },
   "file_extension": ".py",
   "mimetype": "text/x-python",
   "name": "python",
   "nbconvert_exporter": "python",
   "pygments_lexer": "ipython3",
   "version": "3.6.1"
  }
 },
 "nbformat": 4,
 "nbformat_minor": 2
}
