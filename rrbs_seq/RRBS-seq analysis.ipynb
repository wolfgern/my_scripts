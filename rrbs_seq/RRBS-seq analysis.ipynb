{
 "cells": [
  {
   "cell_type": "code",
   "execution_count": 12,
   "metadata": {
    "collapsed": true
   },
   "outputs": [],
   "source": [
    "import pandas as pd\n",
    "import matplotlib.pyplot as plt"
   ]
  },
  {
   "cell_type": "code",
   "execution_count": 32,
   "metadata": {},
   "outputs": [],
   "source": [
    "df_2i = pd.read_csv('WT_26_KO_6_2i_overlap_Repeatmasker.interval', usecols=[0,1,2,3,9,15], sep = '\\t', header=None, names=['Chr', 'Start', 'End', 'WT_26_2i', 'KO_6_2i', 'TE'])\n",
    "df_serum = pd.read_csv('WT_26_KO_6_serum_overlap_Repeatmasker.interval', usecols=[0,1,2,3,9,15], sep = '\\t', header=None, names=['Chr', 'Start', 'End', 'WT_26_serum', 'KO_6_serum', 'TE'])"
   ]
  },
  {
   "cell_type": "code",
   "execution_count": 34,
   "metadata": {
    "collapsed": true
   },
   "outputs": [],
   "source": [
    "df_2i_melt = pd.melt(frame=df_2i, id_vars=['Chr', 'Start', 'End', 'TE'])\n",
    "df_serum_melt = pd.melt(frame=df_serum, id_vars=['Chr', 'Start', 'End', 'TE'])"
   ]
  },
  {
   "cell_type": "code",
   "execution_count": 35,
   "metadata": {},
   "outputs": [
    {
     "name": "stdout",
     "output_type": "stream",
     "text": [
      "       Chr     Start       End  WT_26_2i  KO_6_2i         TE\n",
      "249   chr1   5668694   5668695    0.5897      0.6  MMETn-int\n",
      "250   chr1   5668730   5668731    0.5581      0.4  MMETn-int\n",
      "6849  chr1  60848272  60848273    0.7500      0.0  MMETn-int\n",
      "6850  chr1  60848306  60848307    0.8000      0.0  MMETn-int\n",
      "6851  chr1  60848319  60848320    0.6364      0.0  MMETn-int\n"
     ]
    }
   ],
   "source": [
    "df = pd.concat([df_2i_melt, df_serum_melt])\n",
    "df_ETn = df[df.TE == 'MMETn-int']\n",
    "print(df2.head())"
   ]
  },
  {
   "cell_type": "code",
   "execution_count": 28,
   "metadata": {},
   "outputs": [
    {
     "name": "stdout",
     "output_type": "stream",
     "text": [
      "    Chr     Start       End         TE  variable   value\n",
      "0  chr1   5668694   5668695  MMETn-int  WT_26_2i  0.5897\n",
      "1  chr1   5668730   5668731  MMETn-int  WT_26_2i  0.5581\n",
      "2  chr1  60848272  60848273  MMETn-int  WT_26_2i  0.7500\n",
      "3  chr1  60848306  60848307  MMETn-int  WT_26_2i  0.8000\n",
      "4  chr1  60848319  60848320  MMETn-int  WT_26_2i  0.6364\n"
     ]
    }
   ],
   "source": [
    "df2_melt = pd.melt(frame=df_ETn, id_vars=['Chr', 'Start', 'End', 'TE'])\n",
    "print(df2_melt.head())"
   ]
  },
  {
   "cell_type": "code",
   "execution_count": 29,
   "metadata": {},
   "outputs": [
    {
     "data": {
      "image/png": "[encoded data removed]",
      "text/plain": [
       "<matplotlib.figure.Figure at 0x2b8da1cf4e0>"
      ]
     },
     "metadata": {},
     "output_type": "display_data"
    }
   ],
   "source": [
    "df2_melt.boxplot(column='value', by='variable', rot=90)\n",
    "plt.show()"
   ]
  }
 ],
 "metadata": {
  "kernelspec": {
   "display_name": "Python 3",
   "language": "python",
   "name": "python3"
  },
  "language_info": {
   "codemirror_mode": {
    "name": "ipython",
    "version": 3
   },
   "file_extension": ".py",
   "mimetype": "text/x-python",
   "name": "python",
   "nbconvert_exporter": "python",
   "pygments_lexer": "ipython3",
   "version": "3.6.1"
  }
 },
 "nbformat": 4,
 "nbformat_minor": 2
}
