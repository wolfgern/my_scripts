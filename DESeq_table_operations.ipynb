{
 "cells": [
  {
   "cell_type": "code",
   "execution_count": 1,
   "metadata": {
    "collapsed": true
   },
   "outputs": [],
   "source": [
    "import pandas as pd\n",
    "from collections import Counter"
   ]
  },
  {
   "cell_type": "code",
   "execution_count": 29,
   "metadata": {},
   "outputs": [],
   "source": [
    "colnames = ['Chr', 'Start', 'End', 'Strand', 'Transposon', 'Mean', 'log2fold', 'x1', 'x2', 'pvalue', 'qvalue']\n",
    "df = pd.read_csv('Chr4-cl KO ES cells (B6_129).interval', sep = '\\t', names=colnames)\n",
    "\n"
   ]
  },
  {
   "cell_type": "code",
   "execution_count": 33,
   "metadata": {},
   "outputs": [],
   "source": [
    "df_sign = df[df['qvalue'] < 0.05]\n",
    "df_sign_up = df_sign[df_sign['log2fold'] > 0]\n",
    "df_sign_down = df_sign[df_sign['log2fold'] < 0]\n",
    "upregulated = df_sign_up.Transposon.value_counts(dropna=False)\n",
    "downregulated = df_sign_down.Transposon.value_counts(dropna=False)\n",
    "upregulated.to_csv('upregulated', sep='\\t')"
   ]
  }
 ],
 "metadata": {
  "kernelspec": {
   "display_name": "Python 3",
   "language": "python",
   "name": "python3"
  },
  "language_info": {
   "codemirror_mode": {
    "name": "ipython",
    "version": 3
   },
   "file_extension": ".py",
   "mimetype": "text/x-python",
   "name": "python",
   "nbconvert_exporter": "python",
   "pygments_lexer": "ipython3",
   "version": "3.6.1"
  }
 },
 "nbformat": 4,
 "nbformat_minor": 2
}
