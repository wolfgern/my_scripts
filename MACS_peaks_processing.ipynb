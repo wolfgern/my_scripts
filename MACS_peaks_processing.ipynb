{
 "cells": [
  {
   "cell_type": "code",
   "execution_count": 87,
   "metadata": {
    "collapsed": true
   },
   "outputs": [],
   "source": [
    "import pandas as pd\n",
    "import glob"
   ]
  },
  {
   "cell_type": "code",
   "execution_count": 93,
   "metadata": {},
   "outputs": [
    {
     "name": "stdout",
     "output_type": "stream",
     "text": [
      "['Gm13150_HA_peaks.xls', 'Gm13150_Input_peaks.xls', 'Zfp273_HA_peaks.xls', 'Zfp273_Input_peaks.xls', 'Zfp456_HA_peaks.xls', 'Zfp456_Input_peaks.xls', 'Zfp457_HA_peaks.xls', 'Zfp457_Input_peaks.xls', 'Zfp58_HA_peaks.xls', 'Zfp58_Input_peaks.xls', 'Zfp712_HA_peaks.xls', 'Zfp712_Input_peaks.xls', 'Zfp738_HA_peaks.xls', 'Zfp738_Input_peaks.xls', 'Zfp92_HApeaks.xls', 'Zfp92_Input_peaks.xls']\n"
     ]
    }
   ],
   "source": [
    "files = glob.glob('*.xls')\n",
    "print(files)\n",
    "\n",
    "for file in files:    \n",
    "    \n",
    "    df = pd.read_csv(file, skiprows=23, sep='\\t')\n",
    "    df['Zfp_name'] = file.split('_')[0]\n",
    "    df_sorted = df.sort_values('fold_enrichment', ascending=False)\n",
    "    df_sorted_filtered = df_sorted[df_sorted['fold_enrichment'] >= 20]\n",
    "    new_file_name = file[:-4] + '.bed'\n",
    "    df_sorted_filtered.to_csv(new_file_name, sep='\\t', header=False, index=False)"
   ]
  },
  {
   "cell_type": "code",
   "execution_count": null,
   "metadata": {
    "collapsed": true
   },
   "outputs": [],
   "source": [
    "files = glob.glob('*_peaks.bed')\n",
    "print(files)"
   ]
  }
 ],
 "metadata": {
  "kernelspec": {
   "display_name": "Python 3",
   "language": "python",
   "name": "python3"
  },
  "language_info": {
   "codemirror_mode": {
    "name": "ipython",
    "version": 3
   },
   "file_extension": ".py",
   "mimetype": "text/x-python",
   "name": "python",
   "nbconvert_exporter": "python",
   "pygments_lexer": "ipython3",
   "version": "3.6.1"
  }
 },
 "nbformat": 4,
 "nbformat_minor": 2
}
