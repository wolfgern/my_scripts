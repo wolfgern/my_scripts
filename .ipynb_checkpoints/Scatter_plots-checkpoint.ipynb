{
 "cells": [
  {
   "cell_type": "code",
   "execution_count": 1,
   "metadata": {},
   "outputs": [],
   "source": [
    "import matplotlib\n",
    "matplotlib.use('Agg')"
   ]
  },
  {
   "cell_type": "code",
   "execution_count": 2,
   "metadata": {},
   "outputs": [],
   "source": [
    "import pandas\n",
    "import matplotlib.pyplot as plt"
   ]
  },
  {
   "cell_type": "code",
   "execution_count": 3,
   "metadata": {},
   "outputs": [],
   "source": [
    "colnames = ['ID', 'Mean', 'log2fold', 'x1', 'x2', 'pvalue', 'qvalue' ]\n",
    "data = pandas.read_csv('DESeq2_Rex2_KO_RosaCreERT.tabular', sep = '\\t', names=colnames)\n",
    "\n",
    "ID = data.ID.tolist()\n",
    "Mean = data.Mean.tolist()\n",
    "log2fold = data.log2fold.tolist()\n",
    "qvalue = data.qvalue.tolist()"
   ]
  },
  {
   "cell_type": "code",
   "execution_count": 4,
   "metadata": {
    "collapsed": true
   },
   "outputs": [],
   "source": [
    "colour_value = []\n",
    "for row in data.itertuples():\n",
    "    if row[3] > 0 and row[7] < 0.05:\n",
    "        colour_value.append('red')\n",
    "    elif row[3] < 0 and row[7] < 0.05:\n",
    "        colour_value.append('blue')\n",
    "    else: \n",
    "        colour_value.append(0.5)"
   ]
  },
  {
   "cell_type": "code",
   "execution_count": 5,
   "metadata": {},
   "outputs": [],
   "source": [
    "plt.scatter(Mean, log2fold, s=1, cmap='bwr', c=colour_value)\n",
    "plt.xscale('log') \n",
    "plt.xlabel('Mean expression')\n",
    "plt.ylabel('Log2-fold change')\n",
    "plt.title('Chr4-cluster KO')\n",
    "plt.axhline(color='black')\n",
    "plt.savefig('myfig')"
   ]
  }
 ],
 "metadata": {
  "kernelspec": {
   "display_name": "Python 3",
   "language": "python",
   "name": "python3"
  },
  "language_info": {
   "codemirror_mode": {
    "name": "ipython",
    "version": 3
   },
   "file_extension": ".py",
   "mimetype": "text/x-python",
   "name": "python",
   "nbconvert_exporter": "python",
   "pygments_lexer": "ipython3",
   "version": "3.6.1"
  }
 },
 "nbformat": 4,
 "nbformat_minor": 2
}
