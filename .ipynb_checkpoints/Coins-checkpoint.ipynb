{
 "cells": [
  {
   "cell_type": "code",
   "execution_count": 9,
   "metadata": {
    "collapsed": true
   },
   "outputs": [],
   "source": [
    "import random\n",
    "import matplotlib.pyplot as plt\n",
    "import pandas as pd"
   ]
  },
  {
   "cell_type": "code",
   "execution_count": 10,
   "metadata": {},
   "outputs": [
    {
     "name": "stdout",
     "output_type": "stream",
     "text": [
      "Player1, chose your triplet (H/T): HHH\n",
      "Player2, chose your triplet (H/T): THH\n"
     ]
    },
    {
     "data": {
      "image/png": "[encoded data removed]",
      "text/plain": [
       "<matplotlib.figure.Figure at 0x2dac19fa438>"
      ]
     },
     "metadata": {},
     "output_type": "display_data"
    }
   ],
   "source": [
    "player1 = input('Player1, chose your triplet (H/T): ')\n",
    "player2 = input('Player2, chose your triplet (H/T): ')\n",
    "\n",
    "player1_score = []\n",
    "player2_score = []\n",
    "\n",
    "for n in range(10000):\n",
    "    \n",
    "    player1_count = 0\n",
    "    player2_count = 0\n",
    "    for i in range(100):\n",
    "        \n",
    "        string = random.choice('HT') + random.choice('HT') + random.choice('HT')\n",
    "        while True:\n",
    "            if string == player1:\n",
    "                player1_count += 1               \n",
    "                break\n",
    "            elif string == player2:\n",
    "                player2_count += 1\n",
    "                break\n",
    "            else: \n",
    "                string = string[1:] + random.choice('HT')\n",
    "        \n",
    "\n",
    "    player1_score.append(player1_count)\n",
    "    player2_score.append(player2_count)\n",
    "\n",
    "plt.hist(player1_score, normed=1, histtype='stepfilled', color='red',label=player1)\n",
    "plt.hist(player2_score, normed=1, histtype='stepfilled', color='blue', label=player2)\n",
    "plt.xlabel('% of won games')\n",
    "plt.ylabel('Probability')\n",
    "plt.title('Histogram of probability')\n",
    "plt.grid(True)\n",
    "plt.show()\n",
    "plt.close()\n",
    "\n"
   ]
  },
  {
   "cell_type": "code",
   "execution_count": 27,
   "metadata": {},
   "outputs": [
    {
     "name": "stdout",
     "output_type": "stream",
     "text": [
      "HHH vs. HHH : 66.625\n"
     ]
    },
    {
     "ename": "IndexError",
     "evalue": "list index out of range",
     "output_type": "error",
     "traceback": [
      "\u001b[1;31m---------------------------------------------------------------------------\u001b[0m",
      "\u001b[1;31mIndexError\u001b[0m                                Traceback (most recent call last)",
      "\u001b[1;32m<ipython-input-27-294209a54040>\u001b[0m in \u001b[0;36m<module>\u001b[1;34m()\u001b[0m\n\u001b[0;32m     18\u001b[0m             \u001b[0mstring\u001b[0m \u001b[1;33m=\u001b[0m \u001b[0mrandom\u001b[0m\u001b[1;33m.\u001b[0m\u001b[0mchoice\u001b[0m\u001b[1;33m(\u001b[0m\u001b[1;34m'HT'\u001b[0m\u001b[1;33m)\u001b[0m \u001b[1;33m+\u001b[0m \u001b[0mrandom\u001b[0m\u001b[1;33m.\u001b[0m\u001b[0mchoice\u001b[0m\u001b[1;33m(\u001b[0m\u001b[1;34m'HT'\u001b[0m\u001b[1;33m)\u001b[0m \u001b[1;33m+\u001b[0m \u001b[0mrandom\u001b[0m\u001b[1;33m.\u001b[0m\u001b[0mchoice\u001b[0m\u001b[1;33m(\u001b[0m\u001b[1;34m'HT'\u001b[0m\u001b[1;33m)\u001b[0m\u001b[1;33m\u001b[0m\u001b[0m\n\u001b[0;32m     19\u001b[0m             \u001b[1;32mwhile\u001b[0m \u001b[1;32mTrue\u001b[0m\u001b[1;33m:\u001b[0m\u001b[1;33m\u001b[0m\u001b[0m\n\u001b[1;32m---> 20\u001b[1;33m                 \u001b[1;32mif\u001b[0m \u001b[0mstring\u001b[0m \u001b[1;33m==\u001b[0m \u001b[0mtriplets\u001b[0m\u001b[1;33m[\u001b[0m\u001b[0mindex\u001b[0m\u001b[1;33m]\u001b[0m\u001b[1;33m:\u001b[0m\u001b[1;33m\u001b[0m\u001b[0m\n\u001b[0m\u001b[0;32m     21\u001b[0m                     \u001b[0mplayer1_count\u001b[0m \u001b[1;33m+=\u001b[0m \u001b[1;36m1\u001b[0m\u001b[1;33m\u001b[0m\u001b[0m\n\u001b[0;32m     22\u001b[0m                     \u001b[1;32mbreak\u001b[0m\u001b[1;33m\u001b[0m\u001b[0m\n",
      "\u001b[1;31mIndexError\u001b[0m: list index out of range"
     ]
    }
   ],
   "source": [
    "import numpy as np\n",
    "\n",
    "triplets = ['HHH','HHT','HTH','HTT','THH','THT','TTH','TTT']\n",
    "index = 0\n",
    "\n",
    "for triplet in triplets:\n",
    "    \n",
    "    player1_score = []\n",
    "    player2_score = []\n",
    "    \n",
    "    for n in range(100):\n",
    "        \n",
    "        player1_count = 0\n",
    "        player2_count = 0\n",
    "        \n",
    "        for i in range(100):\n",
    "            \n",
    "            string = random.choice('HT') + random.choice('HT') + random.choice('HT')\n",
    "            while True:\n",
    "                if string == triplets[index]:\n",
    "                    player1_count += 1               \n",
    "                    break\n",
    "                elif string == triplet:\n",
    "                    player2_count += 1\n",
    "                    break\n",
    "                else: \n",
    "                    string = string[1:] + random.choice('HT')\n",
    "            \n",
    "    \n",
    "        player1_score.append(player1_count)\n",
    "        player2_score.append(player2_count)\n",
    "        index += 1\n",
    "        if index > 7:\n",
    "            break\n",
    "    \n",
    "    print(triplets[0],'vs.', triplet,':',np.mean(player1_score))"
   ]
  }
 ],
 "metadata": {
  "kernelspec": {
   "display_name": "Python 3",
   "language": "python",
   "name": "python3"
  },
  "language_info": {
   "codemirror_mode": {
    "name": "ipython",
    "version": 3
   },
   "file_extension": ".py",
   "mimetype": "text/x-python",
   "name": "python",
   "nbconvert_exporter": "python",
   "pygments_lexer": "ipython3",
   "version": "3.6.1"
  }
 },
 "nbformat": 4,
 "nbformat_minor": 2
}
