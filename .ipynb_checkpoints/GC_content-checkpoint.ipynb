{
 "cells": [
  {
   "cell_type": "code",
   "execution_count": 10,
   "metadata": {},
   "outputs": [
    {
     "name": "stdout",
     "output_type": "stream",
     "text": [
      "GC percentage: 44.0 %\n"
     ]
    }
   ],
   "source": [
    "flu_ns1_seq = 'GTGACAAAGACATAATGGATCCAAACACTGTGTCAAGCTTTCAGGTAGATTGCTTTCTTTGGCATGTCCGCAAACGAGTTGCAGACCAAGAACTAGGTGA'\n",
    "\n",
    "# get the G and C content of the sequence\n",
    "\n",
    "G_content = flu_ns1_seq.count('G') \n",
    "C_content = flu_ns1_seq.count('C')\n",
    "\n",
    "# add G and C content\n",
    "\n",
    "GC_content = G_content + C_content\n",
    "\n",
    "# get length of DNA sequence\n",
    "\n",
    "DNA_length = len(flu_ns1_seq)\n",
    "\n",
    "# calculate the GC percentage\n",
    "\n",
    "GC_percentage = GC_content / DNA_length * 100\n",
    "\n",
    "# print result\n",
    "\n",
    "print ('GC percentage:', GC_percentage,'%')\n"
   ]
  },
  {
   "cell_type": "markdown",
   "metadata": {},
   "source": [
    "All in one line of code:"
   ]
  },
  {
   "cell_type": "code",
   "execution_count": 14,
   "metadata": {
    "scrolled": true
   },
   "outputs": [
    {
     "name": "stdout",
     "output_type": "stream",
     "text": [
      "GC percentage: 44.0 %\n"
     ]
    }
   ],
   "source": [
    "print('GC percentage:',(flu_ns1_seq.count('G') + flu_ns1_seq.count('C')) / len(flu_ns1_seq) * 100,'%')"
   ]
  }
 ],
 "metadata": {
  "kernelspec": {
   "display_name": "Python 3",
   "language": "python",
   "name": "python3"
  },
  "language_info": {
   "codemirror_mode": {
    "name": "ipython",
    "version": 3
   },
   "file_extension": ".py",
   "mimetype": "text/x-python",
   "name": "python",
   "nbconvert_exporter": "python",
   "pygments_lexer": "ipython3",
   "version": "3.6.1"
  }
 },
 "nbformat": 4,
 "nbformat_minor": 2
}
