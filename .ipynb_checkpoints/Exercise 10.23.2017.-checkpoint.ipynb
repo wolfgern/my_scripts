{
 "cells": [
  {
   "cell_type": "code",
   "execution_count": 3,
   "metadata": {},
   "outputs": [
    {
     "name": "stdout",
     "output_type": "stream",
     "text": [
      "-9\n"
     ]
    }
   ],
   "source": [
    "x = [1, 3, 2, 5, 18, 9, -4, -5, 82, -123, 1, 4, 7, -9]\n",
    "\n",
    "s = 0\n",
    "for i in x:\n",
    "    s += i\n",
    "    \n",
    "print(s)\n",
    "    "
   ]
  },
  {
   "cell_type": "code",
   "execution_count": 18,
   "metadata": {},
   "outputs": [
    {
     "name": "stdout",
     "output_type": "stream",
     "text": [
      "9\n"
     ]
    }
   ],
   "source": [
    "def add_2_numbers(x1, x2):\n",
    "    return x1 + x2\n",
    "\n",
    "print(add_2_numbers(4,5))\n",
    "    "
   ]
  },
  {
   "cell_type": "code",
   "execution_count": 19,
   "metadata": {},
   "outputs": [
    {
     "name": "stdout",
     "output_type": "stream",
     "text": [
      "Type a number: 100\n",
      "Square: 10000\n",
      "Square root: 10.0\n"
     ]
    }
   ],
   "source": [
    "def square_number(x): \n",
    "    return x ** 2\n",
    "    \n",
    "\n",
    "def square_root_number(x):\n",
    "    return x ** 0.5   \n",
    "\n",
    "\n",
    "number = int(input('Type a number: '))\n",
    "\n",
    "print('Square:', square_number(number))\n",
    "print('Square root:', square_root_number(number))\n",
    "    "
   ]
  },
  {
   "cell_type": "code",
   "execution_count": 20,
   "metadata": {},
   "outputs": [
    {
     "name": "stdout",
     "output_type": "stream",
     "text": [
      "4.5\n"
     ]
    }
   ],
   "source": [
    "def mean(x1, x2):\n",
    "    return (x1 + x2) / 2\n",
    "\n",
    "print(mean(4, 5))"
   ]
  },
  {
   "cell_type": "code",
   "execution_count": 22,
   "metadata": {},
   "outputs": [
    {
     "name": "stdout",
     "output_type": "stream",
     "text": [
      "5.0\n"
     ]
    }
   ],
   "source": [
    "def mean(*args):\n",
    "    s = 0\n",
    "    n = 0\n",
    "    for x in args:\n",
    "        s += x\n",
    "        n += 1\n",
    "    return s/n\n",
    "\n",
    "print(mean(4, 5, 6))"
   ]
  },
  {
   "cell_type": "code",
   "execution_count": 27,
   "metadata": {},
   "outputs": [
    {
     "name": "stdout",
     "output_type": "stream",
     "text": [
      "5.0\n"
     ]
    }
   ],
   "source": [
    "def mean(x):\n",
    "    c = 0\n",
    "    for i in x:\n",
    "        c += i\n",
    "    return float(c)/len(x)\n",
    "\n",
    "print(mean([4, 5, 6]))"
   ]
  }
 ],
 "metadata": {
  "kernelspec": {
   "display_name": "Python 3",
   "language": "python",
   "name": "python3"
  },
  "language_info": {
   "codemirror_mode": {
    "name": "ipython",
    "version": 3
   },
   "file_extension": ".py",
   "mimetype": "text/x-python",
   "name": "python",
   "nbconvert_exporter": "python",
   "pygments_lexer": "ipython3",
   "version": "3.6.1"
  }
 },
 "nbformat": 4,
 "nbformat_minor": 2
}
