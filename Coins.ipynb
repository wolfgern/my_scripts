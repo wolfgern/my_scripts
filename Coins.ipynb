{
 "cells": [
  {
   "cell_type": "code",
   "execution_count": 2,
   "metadata": {
    "collapsed": true
   },
   "outputs": [],
   "source": [
    "import random\n",
    "import matplotlib.pyplot as plt"
   ]
  },
  {
   "cell_type": "code",
   "execution_count": 13,
   "metadata": {},
   "outputs": [
    {
     "name": "stdout",
     "output_type": "stream",
     "text": [
      "Player1, chose your triplet (H/T): HHH\n",
      "Player2 chose your triplet (H/T): TTT\n"
     ]
    },
    {
     "data": {
      "image/png": "[encoded data removed]",
      "text/plain": [
       "<matplotlib.figure.Figure at 0x63e4e48>"
      ]
     },
     "metadata": {},
     "output_type": "display_data"
    }
   ],
   "source": [
    "player1 = input('Player1, chose your triplet (H/T): ')\n",
    "player2 = input('Player2, chose your triplet (H/T): ')\n",
    "\n",
    "player1_score = []\n",
    "player2_score = []\n",
    "\n",
    "for n in range(1000):\n",
    "    \n",
    "    player1_count = 0\n",
    "    player2_count = 0\n",
    "    for i in range(100):\n",
    "        \n",
    "        string = random.choice('HT') + random.choice('HT') + random.choice('HT')\n",
    "        while True:\n",
    "            if string == player1:\n",
    "                player1_count += 1               \n",
    "                break\n",
    "            elif string == player2:\n",
    "                player2_count += 1\n",
    "                break\n",
    "            else: \n",
    "                string = string[1:] + random.choice('HT')\n",
    "        \n",
    "\n",
    "    player1_score.append(player1_count)\n",
    "    player2_score.append(player2_count)\n",
    "\n",
    "plt.hist([player1_score, player2_score], 100, normed=1, histtype='stepfilled')\n",
    "plt.xlabel('Chance of winning')\n",
    "plt.ylabel('Fraction of games')\n",
    "plt.title('Histogram of probability')\n",
    "plt.grid(True)\n",
    "plt.show()\n",
    "plt.close()\n",
    "\n"
   ]
  }
 ],
 "metadata": {
  "kernelspec": {
   "display_name": "Python 3",
   "language": "python",
   "name": "python3"
  },
  "language_info": {
   "codemirror_mode": {
    "name": "ipython",
    "version": 3
   },
   "file_extension": ".py",
   "mimetype": "text/x-python",
   "name": "python",
   "nbconvert_exporter": "python",
   "pygments_lexer": "ipython3",
   "version": "3.6.1"
  }
 },
 "nbformat": 4,
 "nbformat_minor": 2
}
