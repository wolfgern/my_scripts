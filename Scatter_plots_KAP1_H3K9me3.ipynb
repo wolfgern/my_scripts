{
 "cells": [
  {
   "cell_type": "code",
   "execution_count": 2,
   "metadata": {
    "collapsed": true
   },
   "outputs": [],
   "source": [
    "import matplotlib\n",
    "matplotlib.use('Agg')\n",
    "\n",
    "import pandas\n",
    "import matplotlib.pyplot as plt"
   ]
  },
  {
   "cell_type": "code",
   "execution_count": 27,
   "metadata": {},
   "outputs": [
    {
     "name": "stdout",
     "output_type": "stream",
     "text": [
      "           TE      KAP1_Mean  KAP1_log2fold   KAP1_qvalue   H3K9me3_Mean  \\\n",
      "0      RLTR27   12847.332470      -0.765621  2.164110e-78   11823.544360   \n",
      "1  RLTR10-int   49568.114970      -0.304169  1.129440e-17   64794.668030   \n",
      "2   IAPEz-int  515286.916100      -0.253268  9.136970e-06  896846.837800   \n",
      "3      RLTR1D    6726.252717      -0.231276  2.191240e-10    8387.711451   \n",
      "4      RLTR10   27234.430120      -0.199596  6.242350e-08   31942.292520   \n",
      "\n",
      "   H3K9me3_log2fold  H3K9me3_qvalue  \n",
      "0         -0.097310             NaN  \n",
      "1         -0.269719        0.000008  \n",
      "2         -0.169218        0.034556  \n",
      "3         -0.309815             NaN  \n",
      "4         -0.242232        0.000048  \n"
     ]
    }
   ],
   "source": [
    "file_name = 'Chr2_KAP1_H3K9me3.txt'\n",
    "data = pandas.read_csv(file_name, sep = '\\t')\n",
    "print(data.head())\n",
    "\n",
    "color_value = []                         # assign colours (red/blue) to up- and downregulated TEs\n",
    "for row in data.itertuples():\n",
    "    if row[4] < 0.05 and row[7] < 0.05:\n",
    "        color_value.append('red')\n",
    "    elif row[4] < 0.05:\n",
    "        color_value.append('blue')\n",
    "    else: \n",
    "        color_value.append(0.5)\n",
    "        \n",
    "\n"
   ]
  },
  {
   "cell_type": "code",
   "execution_count": 29,
   "metadata": {},
   "outputs": [],
   "source": [
    "data.plot(kind='scatter', x='KAP1_log2fold', y='H3K9me3_log2fold', c=color_value)     # create scatter plot\n",
    "plt.xlabel('KAP1(log2 KO/WT)')\n",
    "plt.ylabel('H3K9me3(log2 KO/WT)')\n",
    "plt.title(file_name[:-4])\n",
    "plt.savefig(file_name[:-4])\n",
    "plt.show()"
   ]
  }
 ],
 "metadata": {
  "kernelspec": {
   "display_name": "Python 3",
   "language": "python",
   "name": "python3"
  },
  "language_info": {
   "codemirror_mode": {
    "name": "ipython",
    "version": 3
   },
   "file_extension": ".py",
   "mimetype": "text/x-python",
   "name": "python",
   "nbconvert_exporter": "python",
   "pygments_lexer": "ipython3",
   "version": "3.6.1"
  }
 },
 "nbformat": 4,
 "nbformat_minor": 2
}
