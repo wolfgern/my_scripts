{
 "cells": [
  {
   "cell_type": "code",
   "execution_count": 22,
   "metadata": {},
   "outputs": [
    {
     "name": "stdout",
     "output_type": "stream",
     "text": [
      "Please enter a DNA sequence: acgtttgg\n",
      "ACGTTTGG\n",
      "Lenght of sequence:  8\n",
      "CGTTTGG\n",
      "Lenght of sequence:  7\n",
      "GTTTGG\n",
      "Lenght of sequence:  6\n",
      "TTTGG\n",
      "Lenght of sequence:  5\n",
      "TTGG\n",
      "Lenght of sequence:  4\n",
      "TGG\n",
      "Lenght of sequence:  3\n",
      "GG\n",
      "Lenght of sequence:  2\n",
      "G\n",
      "Lenght of sequence:  1\n"
     ]
    }
   ],
   "source": [
    "seq = input('Please enter a DNA sequence: ')\n",
    "seq = str.upper(seq)\n",
    "while len(seq) > 0:\n",
    " print(seq)\n",
    " print(\"Lenght of sequence: \", len(seq))\n",
    " seq = seq[1:]"
   ]
  },
  {
   "cell_type": "code",
   "execution_count": 26,
   "metadata": {},
   "outputs": [
    {
     "name": "stdout",
     "output_type": "stream",
     "text": [
      "Please enter a DNA sequence: gggtcc\n"
     ]
    },
    {
     "data": {
      "text/plain": [
       "'G'"
      ]
     },
     "execution_count": 26,
     "metadata": {},
     "output_type": "execute_result"
    }
   ],
   "source": [
    "seq = input('Please enter a DNA sequence: ')\n",
    "seq = str.upper(seq)\n",
    "seq[1]"
   ]
  },
  {
   "cell_type": "code",
   "execution_count": 37,
   "metadata": {},
   "outputs": [
    {
     "name": "stdout",
     "output_type": "stream",
     "text": [
      "Please enter a DNA sequence: cgcgttcgaa\n",
      "CpG sites in sequence:  3\n"
     ]
    }
   ],
   "source": [
    "seq = input('Please enter a DNA sequence: ')\n",
    "seq = str.upper(seq)\n",
    "GC_count = 0\n",
    "while len(seq) > 1:\n",
    "    if seq[0] + seq[1] == 'CG':\n",
    "        GC_count += 1\n",
    "    seq = seq[1:]\n",
    "print('CpG sites in sequence: ', GC_count)"
   ]
  },
  {
   "cell_type": "code",
   "execution_count": 41,
   "metadata": {},
   "outputs": [
    {
     "name": "stdout",
     "output_type": "stream",
     "text": [
      "Please enter a protein sequence: MERLSQMAGRRAWCAEDSVPRQEEEDRTRPSKTVTFKDVAVDLTQEEWQQMKPAQRALYRDVMLETYSNLVTVGCQVTKPDVIFKLEQAEEPWVLEEEMFWRRSPEAARGRMKSFAFKDMAKDLRFEDVVIYFSLEEWECLRHSHRNLYRAVMLDNYSNLLSLSLADTKPRVVSLLEQGKEPWMVMRNETKIWHPDWVSRTEAKDSSKIKTLQEKMAKKHTCPTLEDSKTRGDREVTRELEGQQVHQEGHLRQAAVTSVERPDSVQCTAHREAHPGGKPCSSEKSQKTSLCQPPPIEREQLHSKAKASEHAQHGKVFNSCTSDTAVHPRPQESRKDSERKKSALAGGPDTSKPQSAQGSERPHKCKECGKAFHTPSQLSHHQKLHVGEKPYKCQECGKAFPSNAQLSLHHRVHTDEKCFECKECGKAFMRPSHLLRHQRIHTGEKPHKCKECGKAFRYDTQLSLHLLTHAGARRFECKDCDKVYSCASQLALHQMSHTGEKPHKCKECGKGFISDSHLLRHQSVHTGETPYKCKECGKGFRRGSELARHQRAHSGDKPYKCKECGKSFTCTTELFRHQKVHTGDRPHKCKECGKAFIRRSELTHHERSHSGEKPYECKECGKTFGRGSELSRHQKIHTGEKPYKCQQCGKAFIRGSHLTQHQRIHTGRRSE\n",
      "FTQH\n",
      "FSQL\n",
      "FRHR\n",
      "FYQL\n",
      "FCQL\n",
      "FSHR\n",
      "FRER\n",
      "FCER\n",
      "FREH\n",
      "FRER\n",
      "FRHQ\n",
      "ZNFs in sequence:  11\n"
     ]
    }
   ],
   "source": [
    "seq = input('Please enter a protein sequence: ')\n",
    "seq = str.upper(seq)\n",
    "ZNF_count = 0\n",
    "while len(seq) > 21:\n",
    "    if seq[0] + seq[3] + seq[16] + seq[20] == 'CCHH':\n",
    "        ZNF_count += 1\n",
    "        print(seq[9] + seq[12] + seq[15])\n",
    "    seq = seq[1:]\n",
    "print('ZNFs in sequence: ', ZNF_count)"
   ]
  },
  {
   "cell_type": "code",
   "execution_count": 45,
   "metadata": {},
   "outputs": [
    {
     "name": "stdout",
     "output_type": "stream",
     "text": [
      "Please enter a protein sequence: MERLSQMAGRRAWCAEDSVPRQEEEDRTRPSKTVTFKDVAVDLTQEEWQQMKPAQRALYRDVMLETYSNLVTVGCQVTKPDVIFKLEQAEEPWVLEEEMFWRRSPEAARGRMKSFAFKDMAKDLRFEDVVIYFSLEEWECLRHSHRNLYRAVMLDNYSNLLSLSLADTKPRVVSLLEQGKEPWMVMRNETKIWHPDWVSRTEAKDSSKIKTLQEKMAKKHTCPTLEDSKTRGDREVTRELEGQQVHQEGHLRQAAVTSVERPDSVQCTAHREAHPGGKPCSSEKSQKTSLCQPPPIEREQLHSKAKASEHAQHGKVFNSCTSDTAVHPRPQESRKDSERKKSALAGGPDTSKPQSAQGSERPHKCKECGKAFHTPSQLSHHQKLHVGEKPYKCQECGKAFPSNAQLSLHHRVHTDEKCFECKECGKAFMRPSHLLRHQRIHTGEKPHKCKECGKAFRYDTQLSLHLLTHAGARRFECKDCDKVYSCASQLALHQMSHTGEKPHKCKECGKGFISDSHLLRHQSVHTGETPYKCKECGKGFRRGSELARHQRAHSGDKPYKCKECGKSFTCTTELFRHQKVHTGDRPHKCKECGKAFIRRSELTHHERSHSGEKPYECKECGKTFGRGSELSRHQKIHTGEKPYKCQQCGKAFIRGSHLTQHQRIHTGRRSE\n",
      "ZNFs in sequence:  11\n",
      ">fingerprint_aa\n",
      "TQH-SQL-RHR-YQL-CQL-SHR-RER-CER-REH-RER-RHQ\n"
     ]
    }
   ],
   "source": [
    "seq = input('Please enter a protein sequence: ')\n",
    "seq = str.upper(seq)\n",
    "ZNF_count = 0\n",
    "fingerprint = '>fingerprint_aa\\n'\n",
    "while len(seq) > 21:\n",
    "    if seq[0] + seq[3] + seq[16] + seq[20] == 'CCHH':\n",
    "        ZNF_count += 1\n",
    "        fingerprint = fingerprint + seq[9] + seq[12] + seq[15] + '-'\n",
    "    seq = seq[1:]\n",
    "print('ZNFs in sequence: ', ZNF_count)\n",
    "print(fingerprint[:-1])"
   ]
  },
  {
   "cell_type": "code",
   "execution_count": null,
   "metadata": {
    "collapsed": true
   },
   "outputs": [],
   "source": []
  }
 ],
 "metadata": {
  "kernelspec": {
   "display_name": "Python 3",
   "language": "python",
   "name": "python3"
  },
  "language_info": {
   "codemirror_mode": {
    "name": "ipython",
    "version": 3
   },
   "file_extension": ".py",
   "mimetype": "text/x-python",
   "name": "python",
   "nbconvert_exporter": "python",
   "pygments_lexer": "ipython3",
   "version": "3.6.1"
  }
 },
 "nbformat": 4,
 "nbformat_minor": 2
}
