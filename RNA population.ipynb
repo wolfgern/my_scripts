{
 "cells": [
  {
   "cell_type": "code",
   "execution_count": 7,
   "metadata": {
    "scrolled": true
   },
   "outputs": [
    {
     "name": "stdout",
     "output_type": "stream",
     "text": [
      "0 UCACAUCGCACGAACAUGUG UCACAUCGCACGAACAUGUG\n",
      "1 CUAACUGGAGAUAUUUCCGC CUAACUGGAGAUAUUUCCGC\n",
      "2 CACUCCCACGUGGGACGAGU CACUCCCACGUGGGACGAGU\n",
      "3 CCCACCUUCCCCGCGGAGGG CCCACCUUCCCCGCGGAGGG\n",
      "4 CAUGGUCUCGGUCUCGUUUG CAUGGUCUCGGUCUCGUUUG\n",
      "5 AUACGGUCGCUCAUCCAUGU AUACGGUCGCUCAUCCAUGU\n",
      "6 CUCACUAAUUUAAUGGAAUG CUCACUAAUUUAAUGGAAUG\n",
      "7 GCUAAUAGCCACAUCGGUGG GCUAAUAGCCACAUCGGUGG\n",
      "8 AAACCGUUCAUAGAGGUACG AAACCGUUCAUAGAGGUACG\n",
      "9 GUGAACUGUAAUUUUUUGAC GUGAACUGUAAUUUUUUGAC\n"
     ]
    }
   ],
   "source": [
    "import numpy as np\n",
    "\n",
    "class Cell:\n",
    "    def __init__(self, seq_1, seq_2):\n",
    "        self.sequence_1 = seq_1\n",
    "        self.sequence_2 = seq_2\n",
    "        \n",
    "import random\n",
    "\n",
    "def populate(target, pop_size=100):\n",
    "    \n",
    "    population = []\n",
    "\n",
    "    for i in range(pop_size):\n",
    "        #get a random sequence to start with\n",
    "        sequence = \"\".join([random.choice(\"AUCG\") for i in range(len(target))])\n",
    "        #add a new Cell object to the population list\n",
    "        new_cell = Cell(sequence, sequence)\n",
    "        new_cell.id = i\n",
    "        new_cell.parent = i\n",
    "        population.append(new_cell)\n",
    "            \n",
    "    return population\n",
    "\n",
    "target = \"(.(((....).).).)....\"\n",
    "pop = populate(target, pop_size=100)\n",
    "for p in pop[:10]:\n",
    "    print(p.id, p.sequence_1, p.sequence_2)"
   ]
  },
  {
   "cell_type": "code",
   "execution_count": null,
   "metadata": {
    "collapsed": true
   },
   "outputs": [],
   "source": []
  }
 ],
 "metadata": {
  "kernelspec": {
   "display_name": "Python 3",
   "language": "python",
   "name": "python3"
  },
  "language_info": {
   "codemirror_mode": {
    "name": "ipython",
    "version": 3
   },
   "file_extension": ".py",
   "mimetype": "text/x-python",
   "name": "python",
   "nbconvert_exporter": "python",
   "pygments_lexer": "ipython3",
   "version": "3.6.1"
  }
 },
 "nbformat": 4,
 "nbformat_minor": 2
}
