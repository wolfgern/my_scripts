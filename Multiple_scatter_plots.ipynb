{
 "cells": [
  {
   "cell_type": "code",
   "execution_count": 10,
   "metadata": {
    "collapsed": true
   },
   "outputs": [],
   "source": [
    "import matplotlib\n",
    "matplotlib.use('Agg')\n",
    "\n",
    "import pandas\n",
    "import matplotlib.pyplot as plt"
   ]
  },
  {
   "cell_type": "code",
   "execution_count": 27,
   "metadata": {},
   "outputs": [],
   "source": [
    "files = ['DESeq2_Chr13-1_KO_B6.tabular', 'DESeq2_Chr13-2_KO_B6.tabular', 'DESeq2_Rex2_KO_B6.tabular', 'DESeq2_Rex2_KO_Blood.tabular', 'DESeq2_Rex2_KO_Brain.tabular', 'DESeq2_Rex2_KO_Kidney.tabular', 'DESeq2_Rex2_KO_Liver.tabular', 'DESeq2_Rex2_KO_RosaCreERT.tabular']\n",
    "\n",
    "index = 0\n",
    "for file in files:                            # iterate through list with file names\n",
    "\n",
    "    file_name = files[index]                  \n",
    "    colnames = ['ID', 'Mean', 'log2fold', 'x1', 'x2', 'pvalue', 'qvalue' ]\n",
    "    data = pandas.read_csv(file_name, sep = '\\t', names=colnames)\n",
    "\n",
    "    ID = data.ID.tolist()                     # convert dataframe columns to lists\n",
    "    Mean = data.Mean.tolist()\n",
    "    log2fold = data.log2fold.tolist()\n",
    "    qvalue = data.qvalue.tolist()\n",
    "\n",
    "    colour_value = []                         # assign colours (red/blue) to up- and downregulated TEs\n",
    "    for row in data.itertuples():\n",
    "        if row[3] > 0 and row[7] < 0.05:\n",
    "            colour_value.append('red')\n",
    "        elif row[3] < 0 and row[7] < 0.05:\n",
    "            colour_value.append('blue')\n",
    "        else: \n",
    "            colour_value.append(0.5)\n",
    "        \n",
    "    plt.scatter(Mean, log2fold, s=1, cmap='bwr', c=colour_value)     # create scatter plot\n",
    "    plt.xscale('log') \n",
    "    plt.xlabel('Mean expression')\n",
    "    plt.ylabel('Log2-fold change')\n",
    "    plt.title(file_name)\n",
    "    plt.axhline(color='black')\n",
    "    plt.savefig(file_name[:-8])\n",
    "    plt.clf()\n",
    "    index += 1"
   ]
  }
 ],
 "metadata": {
  "kernelspec": {
   "display_name": "Python 3",
   "language": "python",
   "name": "python3"
  },
  "language_info": {
   "codemirror_mode": {
    "name": "ipython",
    "version": 3
   },
   "file_extension": ".py",
   "mimetype": "text/x-python",
   "name": "python",
   "nbconvert_exporter": "python",
   "pygments_lexer": "ipython3",
   "version": "3.6.1"
  }
 },
 "nbformat": 4,
 "nbformat_minor": 2
}
